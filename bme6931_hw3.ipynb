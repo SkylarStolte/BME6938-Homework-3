{
 "cells": [
  {
   "cell_type": "markdown",
   "metadata": {},
   "source": [
    "Skylar Stolte\n",
    "BME6938\n",
    "10/19/18\n",
    "Homework 3"
   ]
  },
  {
   "cell_type": "markdown",
   "metadata": {},
   "source": [
    "Note: I have updated my markdowns to be above the relevant code based on my MATLAB practices. "
   ]
  },
  {
   "cell_type": "markdown",
   "metadata": {},
   "source": [
    "Part a) Load the dataset in an iPython notebook [2 points]."
   ]
  },
  {
   "cell_type": "markdown",
   "metadata": {},
   "source": [
    "The libraries that may be needed are inputed here. All needed packages are imported here based on personal preference concerning organizational schemes."
   ]
  },
  {
   "cell_type": "code",
   "execution_count": 115,
   "metadata": {},
   "outputs": [],
   "source": [
    "#import needed libraries\n",
    "import numpy as np\n",
    "import matplotlib.pyplot as plt \n",
    "import pandas as pd\n",
    "import sklearn\n",
    "from sklearn.svm import SVC\n",
    "from sklearn.model_selection import train_test_split\n",
    "from sklearn.model_selection import StratifiedKFold\n",
    "from sklearn.preprocessing import StandardScaler\n",
    "from sklearn.feature_selection import RFECV\n",
    "from sklearn.datasets import make_classification\n",
    "%matplotlib inline"
   ]
  },
  {
   "cell_type": "markdown",
   "metadata": {},
   "source": [
    "Here the data is imported and a preview is loaded for clarity. There are 62 rows that correspond to unique samples pertaining to Color Cancer. The first column (\"0\") corresponds to the classification as to whether the instance came from a tumor biopsy or not (0 or 1). The other columns (1-2000) correspond to input features relating to gene expressio levels. The file Genes.txt describes the relevant genes and tissues. \n",
    "\n",
    "Below, X is assigned to the columns 1-2000 to describe the input features and y is assigned to column 0 for class label. "
   ]
  },
  {
   "cell_type": "code",
   "execution_count": 116,
   "metadata": {},
   "outputs": [
    {
     "data": {
      "text/html": [
       "<div>\n",
       "<style scoped>\n",
       "    .dataframe tbody tr th:only-of-type {\n",
       "        vertical-align: middle;\n",
       "    }\n",
       "\n",
       "    .dataframe tbody tr th {\n",
       "        vertical-align: top;\n",
       "    }\n",
       "\n",
       "    .dataframe thead th {\n",
       "        text-align: right;\n",
       "    }\n",
       "</style>\n",
       "<table border=\"1\" class=\"dataframe\">\n",
       "  <thead>\n",
       "    <tr style=\"text-align: right;\">\n",
       "      <th></th>\n",
       "      <th>0</th>\n",
       "      <th>1</th>\n",
       "      <th>2</th>\n",
       "      <th>3</th>\n",
       "      <th>4</th>\n",
       "      <th>5</th>\n",
       "      <th>6</th>\n",
       "      <th>7</th>\n",
       "      <th>8</th>\n",
       "      <th>9</th>\n",
       "      <th>...</th>\n",
       "      <th>1991</th>\n",
       "      <th>1992</th>\n",
       "      <th>1993</th>\n",
       "      <th>1994</th>\n",
       "      <th>1995</th>\n",
       "      <th>1996</th>\n",
       "      <th>1997</th>\n",
       "      <th>1998</th>\n",
       "      <th>1999</th>\n",
       "      <th>2000</th>\n",
       "    </tr>\n",
       "  </thead>\n",
       "  <tbody>\n",
       "    <tr>\n",
       "      <th>0</th>\n",
       "      <td>0</td>\n",
       "      <td>2.080754</td>\n",
       "      <td>1.099069</td>\n",
       "      <td>0.927763</td>\n",
       "      <td>1.029081</td>\n",
       "      <td>-0.130763</td>\n",
       "      <td>1.265460</td>\n",
       "      <td>-0.436286</td>\n",
       "      <td>0.728881</td>\n",
       "      <td>2.107979</td>\n",
       "      <td>...</td>\n",
       "      <td>-0.825403</td>\n",
       "      <td>-0.138451</td>\n",
       "      <td>0.382957</td>\n",
       "      <td>0.876697</td>\n",
       "      <td>-0.216234</td>\n",
       "      <td>-1.408300</td>\n",
       "      <td>0.393327</td>\n",
       "      <td>-0.148522</td>\n",
       "      <td>1.591533</td>\n",
       "      <td>-0.217481</td>\n",
       "    </tr>\n",
       "    <tr>\n",
       "      <th>1</th>\n",
       "      <td>1</td>\n",
       "      <td>1.109457</td>\n",
       "      <td>0.786453</td>\n",
       "      <td>0.445560</td>\n",
       "      <td>-0.146323</td>\n",
       "      <td>-0.996316</td>\n",
       "      <td>0.555759</td>\n",
       "      <td>0.290734</td>\n",
       "      <td>-0.145259</td>\n",
       "      <td>1.132660</td>\n",
       "      <td>...</td>\n",
       "      <td>-1.056288</td>\n",
       "      <td>-0.205499</td>\n",
       "      <td>-1.815374</td>\n",
       "      <td>0.324373</td>\n",
       "      <td>-1.296909</td>\n",
       "      <td>-0.870757</td>\n",
       "      <td>1.108739</td>\n",
       "      <td>1.094010</td>\n",
       "      <td>-0.492141</td>\n",
       "      <td>-1.554079</td>\n",
       "    </tr>\n",
       "    <tr>\n",
       "      <th>2</th>\n",
       "      <td>0</td>\n",
       "      <td>-0.676530</td>\n",
       "      <td>1.693100</td>\n",
       "      <td>1.559247</td>\n",
       "      <td>1.559983</td>\n",
       "      <td>-0.982179</td>\n",
       "      <td>-1.358507</td>\n",
       "      <td>-1.313994</td>\n",
       "      <td>-0.455067</td>\n",
       "      <td>0.295214</td>\n",
       "      <td>...</td>\n",
       "      <td>1.242968</td>\n",
       "      <td>1.230157</td>\n",
       "      <td>-2.038999</td>\n",
       "      <td>2.366093</td>\n",
       "      <td>0.820656</td>\n",
       "      <td>1.404501</td>\n",
       "      <td>0.176860</td>\n",
       "      <td>-0.086285</td>\n",
       "      <td>-0.390878</td>\n",
       "      <td>-0.089465</td>\n",
       "    </tr>\n",
       "    <tr>\n",
       "      <th>3</th>\n",
       "      <td>1</td>\n",
       "      <td>0.534396</td>\n",
       "      <td>1.677537</td>\n",
       "      <td>1.489030</td>\n",
       "      <td>0.778605</td>\n",
       "      <td>-0.183776</td>\n",
       "      <td>-1.116850</td>\n",
       "      <td>-1.487557</td>\n",
       "      <td>-0.579511</td>\n",
       "      <td>0.292683</td>\n",
       "      <td>...</td>\n",
       "      <td>0.559852</td>\n",
       "      <td>-0.593149</td>\n",
       "      <td>-4.440577</td>\n",
       "      <td>1.720705</td>\n",
       "      <td>-0.124617</td>\n",
       "      <td>-0.435880</td>\n",
       "      <td>0.228440</td>\n",
       "      <td>-0.893938</td>\n",
       "      <td>1.005879</td>\n",
       "      <td>-0.631247</td>\n",
       "    </tr>\n",
       "    <tr>\n",
       "      <th>4</th>\n",
       "      <td>0</td>\n",
       "      <td>-1.018903</td>\n",
       "      <td>0.511080</td>\n",
       "      <td>0.755641</td>\n",
       "      <td>1.013816</td>\n",
       "      <td>0.529899</td>\n",
       "      <td>0.160440</td>\n",
       "      <td>-0.087055</td>\n",
       "      <td>1.295290</td>\n",
       "      <td>0.458736</td>\n",
       "      <td>...</td>\n",
       "      <td>0.227110</td>\n",
       "      <td>0.497628</td>\n",
       "      <td>-0.083921</td>\n",
       "      <td>-0.382733</td>\n",
       "      <td>-0.913389</td>\n",
       "      <td>1.122928</td>\n",
       "      <td>0.834571</td>\n",
       "      <td>-0.283786</td>\n",
       "      <td>-2.860340</td>\n",
       "      <td>0.280871</td>\n",
       "    </tr>\n",
       "  </tbody>\n",
       "</table>\n",
       "<p>5 rows × 2001 columns</p>\n",
       "</div>"
      ],
      "text/plain": [
       "   0         1         2         3         4         5         6         7     \\\n",
       "0     0  2.080754  1.099069  0.927763  1.029081 -0.130763  1.265460 -0.436286   \n",
       "1     1  1.109457  0.786453  0.445560 -0.146323 -0.996316  0.555759  0.290734   \n",
       "2     0 -0.676530  1.693100  1.559247  1.559983 -0.982179 -1.358507 -1.313994   \n",
       "3     1  0.534396  1.677537  1.489030  0.778605 -0.183776 -1.116850 -1.487557   \n",
       "4     0 -1.018903  0.511080  0.755641  1.013816  0.529899  0.160440 -0.087055   \n",
       "\n",
       "       8         9       ...         1991      1992      1993      1994  \\\n",
       "0  0.728881  2.107979    ...    -0.825403 -0.138451  0.382957  0.876697   \n",
       "1 -0.145259  1.132660    ...    -1.056288 -0.205499 -1.815374  0.324373   \n",
       "2 -0.455067  0.295214    ...     1.242968  1.230157 -2.038999  2.366093   \n",
       "3 -0.579511  0.292683    ...     0.559852 -0.593149 -4.440577  1.720705   \n",
       "4  1.295290  0.458736    ...     0.227110  0.497628 -0.083921 -0.382733   \n",
       "\n",
       "       1995      1996      1997      1998      1999      2000  \n",
       "0 -0.216234 -1.408300  0.393327 -0.148522  1.591533 -0.217481  \n",
       "1 -1.296909 -0.870757  1.108739  1.094010 -0.492141 -1.554079  \n",
       "2  0.820656  1.404501  0.176860 -0.086285 -0.390878 -0.089465  \n",
       "3 -0.124617 -0.435880  0.228440 -0.893938  1.005879 -0.631247  \n",
       "4 -0.913389  1.122928  0.834571 -0.283786 -2.860340  0.280871  \n",
       "\n",
       "[5 rows x 2001 columns]"
      ]
     },
     "execution_count": 116,
     "metadata": {},
     "output_type": "execute_result"
    }
   ],
   "source": [
    "#read in data and check specifics\n",
    "data = pd.read_csv('HW3Data.csv', header = None)\n",
    "data.head()"
   ]
  },
  {
   "cell_type": "code",
   "execution_count": 117,
   "metadata": {},
   "outputs": [],
   "source": [
    "# assigning input features to X and class labels to y\n",
    "X = data.loc[:,1:].values\n",
    "y = data.loc[:,0].values"
   ]
  },
  {
   "cell_type": "markdown",
   "metadata": {},
   "source": [
    "The input features are then standardized, which in general improves performance and aids in equal weighting between features that may fall on different scales. After standardization of X, the training and testing data is split 80/20 with stratification of y. Finally, the shapes of the training and testing sets are displayed to assure proper dimensions. "
   ]
  },
  {
   "cell_type": "code",
   "execution_count": 118,
   "metadata": {},
   "outputs": [],
   "source": [
    "# standardization of input features\n",
    "X = StandardScaler().fit_transform(X)"
   ]
  },
  {
   "cell_type": "code",
   "execution_count": 119,
   "metadata": {},
   "outputs": [],
   "source": [
    "#split the dataset into training and testing\n",
    "X_train, X_test, y_train, y_test = \\\n",
    "    train_test_split(X, y, test_size = .20, stratify = y, random_state = 1)"
   ]
  },
  {
   "cell_type": "code",
   "execution_count": 120,
   "metadata": {},
   "outputs": [
    {
     "name": "stdout",
     "output_type": "stream",
     "text": [
      "The shape of X_train is: (49, 2000)\n",
      "The shape of X_test is: (13, 2000)\n",
      "The shape of y_train is: (49,)\n",
      "The shape of y_test is: (13,)\n"
     ]
    }
   ],
   "source": [
    "#test shapes to ensure that the data split correctly\n",
    "print('The shape of X_train is:', X_train.shape)\n",
    "print('The shape of X_test is:', X_test.shape)\n",
    "print('The shape of y_train is:', y_train.shape)\n",
    "print('The shape of y_test is:', y_test.shape)"
   ]
  },
  {
   "cell_type": "markdown",
   "metadata": {},
   "source": [
    "Part b) Feature selection is an important machine learning task that allows us to select the  most important features in a given dataset. Scikit-learn provides multiple methods for choosing the best features. Use the Recursive Feature Elimination method (REF)\n",
    "with cross-validation here, and show a plot to demonstrate the performance versus number of selected features [11 points]. "
   ]
  },
  {
   "cell_type": "markdown",
   "metadata": {},
   "source": [
    "Recursive feature elimination (RFE) uses cross validation to optimize the number of features selected. This method considers an increasingly smaller set of features used to assign weights to features when using an external estimator. The importance of each attribute is assigned as the estimator is trained on a set of features in which least important features are increasingly pruned until the optimal number of features is selected. \n",
    "\n",
    "Reference: http://scikit-learn.org/stable/modules/generated/sklearn.feature_selection.RFE.html"
   ]
  },
  {
   "cell_type": "markdown",
   "metadata": {},
   "source": [
    "Here, RFE is run and the cross-validation score is computed using the training set. This method is particularly helpful when the number of features is significantly greater than the number of instances (2000 vs. 62), as these cases are more at risk for overfitting. Below, the cross validation score versus the number of selected features is shown (RFECV results). "
   ]
  },
  {
   "cell_type": "code",
   "execution_count": 121,
   "metadata": {},
   "outputs": [
    {
     "name": "stdout",
     "output_type": "stream",
     "text": [
      "Optimal number of features : 86\n"
     ]
    }
   ],
   "source": [
    "# Create the RFE object and compute a cross-validated score.\n",
    "svc = SVC(kernel=\"linear\")\n",
    "\n",
    "rfecv = RFECV(estimator=svc, step=1, cv=StratifiedKFold(10),\n",
    "              scoring='accuracy')\n",
    "rfecv.fit(X_train, y_train)\n",
    "\n",
    "print(\"Optimal number of features : %d\" % rfecv.n_features_)"
   ]
  },
  {
   "cell_type": "code",
   "execution_count": 122,
   "metadata": {},
   "outputs": [
    {
     "data": {
      "image/png": "[encoded data removed]",
      "text/plain": [
       "<Figure size 432x288 with 1 Axes>"
      ]
     },
     "metadata": {},
     "output_type": "display_data"
    }
   ],
   "source": [
    "# Plot number of features VS. cross-validation scores\n",
    "plt.figure()\n",
    "plt.xlabel(\"Number of features selected\")\n",
    "plt.ylabel(\"Cross validation score (nb of correct classifications)\")\n",
    "plt.plot(range(1, len(rfecv.grid_scores_) + 1), rfecv.grid_scores_)\n",
    "plt.show()"
   ]
  },
  {
   "cell_type": "markdown",
   "metadata": {},
   "source": [
    "Part c) Use the holdout method for testing using only the selected features. Report the performance. [5 points]."
   ]
  },
  {
   "cell_type": "markdown",
   "metadata": {},
   "source": [
    "After the optimal number of features is determined, the SVM model is trained on the training data and run on the testing data using the selected number of features. "
   ]
  },
  {
   "cell_type": "code",
   "execution_count": 123,
   "metadata": {},
   "outputs": [
    {
     "name": "stdout",
     "output_type": "stream",
     "text": [
      "Test Accuracy: 0.769\n"
     ]
    }
   ],
   "source": [
    "# use the holdout method for testing using only the selected features:\n",
    "svc.fit(X_train[:,rfecv.support_], y_train)\n",
    "y_pred = svc.predict(X_test[:,rfecv.support_])\n",
    "print('Test Accuracy: %.3f' % svc.score(X_test[:,rfecv.support_], y_test))"
   ]
  },
  {
   "cell_type": "markdown",
   "metadata": {},
   "source": [
    "Part d) Create a GitHub repository and share your code via GitHub with the instructor by submitting the link on Canvas [2 points]. "
   ]
  }
 ],
 "metadata": {
  "kernelspec": {
   "display_name": "Python 3",
   "language": "python",
   "name": "python3"
  },
  "language_info": {
   "codemirror_mode": {
    "name": "ipython",
    "version": 3
   },
   "file_extension": ".py",
   "mimetype": "text/x-python",
   "name": "python",
   "nbconvert_exporter": "python",
   "pygments_lexer": "ipython3",
   "version": "3.6.5"
  }
 },
 "nbformat": 4,
 "nbformat_minor": 2
}
